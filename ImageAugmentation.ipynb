{
 "cells": [
  {
   "cell_type": "code",
   "execution_count": null,
   "id": "8b74bfe3",
   "metadata": {},
   "outputs": [],
   "source": [
    "import os\n",
    "import matplotlib.pyplot as plt\n",
    "from PIL import Image\n",
    "import torch\n",
    "import torchvision.transforms as transforms"
   ]
  },
  {
   "cell_type": "code",
   "execution_count": null,
   "id": "ae7592a0",
   "metadata": {},
   "outputs": [],
   "source": [
    "root = \"./MasterDataset\"\n",
    "\n",
    "total = 0\n",
    "classes = []\n",
    "count = []\n",
    "\n",
    "for folder in os.listdir(root):\n",
    "    cnt = len(os.listdir(os.path.join(root, folder)))\n",
    "    total += cnt\n",
    "    count.append(cnt)\n",
    "    classes.append(folder)"
   ]
  },
  {
   "cell_type": "code",
   "execution_count": null,
   "id": "2755a10b",
   "metadata": {},
   "outputs": [],
   "source": [
    "print(f\"Classes: {len(classes)}, Image: {total}\")\n",
    "for cls, cnt in zip(classes, count):\n",
    "    print(f\"{cls} -> {cnt} ({100 * cnt / total:.4f}%)\")"
   ]
  },
  {
   "cell_type": "code",
   "execution_count": null,
   "id": "a941a0a9",
   "metadata": {},
   "outputs": [],
   "source": [
    "transform1 = transforms.Compose([\n",
    "    transforms.RandomRotation((-180, 180)),\n",
    "    transforms.RandomAdjustSharpness(0, p=1),\n",
    "])\n",
    "\n",
    "transform2 = transforms.Compose([\n",
    "    transforms.RandomRotation((-180, 180)),\n",
    "    transforms.RandomAdjustSharpness(2, p=1),\n",
    "])\n",
    "\n",
    "transform3 = transforms.Compose([\n",
    "    transforms.RandomRotation((-180, 180)),\n",
    "    transforms.RandomAutocontrast(p=1),\n",
    "])\n",
    "\n",
    "transform4 = transforms.Compose([\n",
    "    transforms.RandomRotation((-180, 180)),\n",
    "    transforms.GaussianBlur(kernel_size=5, sigma=(0.1, 5.))\n",
    "])"
   ]
  },
  {
   "cell_type": "code",
   "execution_count": null,
   "id": "beddbf76",
   "metadata": {},
   "outputs": [],
   "source": [
    "for folder in os.listdir(root):\n",
    "    cnt = count[classes.index(folder)]\n",
    "    \n",
    "    if cnt < 500:\n",
    "        for image in os.listdir(os.path.join(root, folder)):\n",
    "            img = Image.open(os.path.join(root, folder, image)).convert(\"RGB\")\n",
    "            \n",
    "            transform1(img).save(os.path.join(root, folder, f't1_{image}'))\n",
    "            transform2(img).save(os.path.join(root, folder, f't2_{image}'))\n",
    "            transform3(img).save(os.path.join(root, folder, f't3_{image}'))\n",
    "            transform4(img).save(os.path.join(root, folder, f't4_{image}'))"
   ]
  },
  {
   "cell_type": "code",
   "execution_count": null,
   "id": "f3b5f0db",
   "metadata": {},
   "outputs": [],
   "source": [
    "total = 0\n",
    "classes = []\n",
    "count = []\n",
    "\n",
    "for folder in os.listdir(root):\n",
    "    cnt = len(os.listdir(os.path.join(root, folder)))\n",
    "    total += cnt\n",
    "    count.append(cnt)\n",
    "    classes.append(folder)\n",
    "    \n",
    "print(f\"Classes: {len(classes)}, Image: {total}\")\n",
    "for cls, cnt in zip(classes, count):\n",
    "    print(f\"{cls} -> {cnt} ({100 * cnt / total:.4f}%)\")"
   ]
  },
  {
   "cell_type": "code",
   "execution_count": null,
   "id": "22778c00",
   "metadata": {},
   "outputs": [],
   "source": []
  }
 ],
 "metadata": {
  "kernelspec": {
   "display_name": "Python 3 (ipykernel)",
   "language": "python",
   "name": "python3"
  },
  "language_info": {
   "codemirror_mode": {
    "name": "ipython",
    "version": 3
   },
   "file_extension": ".py",
   "mimetype": "text/x-python",
   "name": "python",
   "nbconvert_exporter": "python",
   "pygments_lexer": "ipython3",
   "version": "3.11.5"
  }
 },
 "nbformat": 4,
 "nbformat_minor": 5
}
