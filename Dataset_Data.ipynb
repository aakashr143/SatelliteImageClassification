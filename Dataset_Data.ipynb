{
 "cells": [
  {
   "cell_type": "code",
   "execution_count": null,
   "id": "2a7253e4",
   "metadata": {},
   "outputs": [],
   "source": [
    "import os\n",
    "import matplotlib.pyplot as plt\n",
    "from PIL import Image, ImageStat\n",
    "import torchvision.transforms as transforms\n",
    "import statistics\n",
    "import numpy as np\n",
    "from utils import get_more_features\n",
    "import random\n",
    "import statistics\n",
    "\n",
    "os.environ['KMP_DUPLICATE_LIB_OK'] = 'True'"
   ]
  },
  {
   "cell_type": "code",
   "execution_count": null,
   "id": "eacc6aad",
   "metadata": {},
   "outputs": [],
   "source": [
    "ROOT = \"LandUseImagesDataset\"\n",
    "TRAIN = \"train\"\n",
    "VALIDATION = \"validation\"\n",
    "TEST = \"test\"\n",
    "EXTERNAL = \"external\"\n",
    "\n",
    "TRANSFORM1 = transforms.Compose([\n",
    "    transforms.Resize(224),\n",
    "    transforms.ToTensor(),\n",
    "    transforms.ToPILImage()\n",
    "])"
   ]
  },
  {
   "cell_type": "code",
   "execution_count": null,
   "id": "f4587e15",
   "metadata": {},
   "outputs": [],
   "source": [
    "R_STD = []\n",
    "G_STD = []\n",
    "B_STD = []\n",
    "H_STD = []\n",
    "S_STD = []\n",
    "I_STD = []\n",
    "\n",
    "R_VAR = []\n",
    "G_VAR = []\n",
    "B_VAR = []\n",
    "H_VAR = []\n",
    "S_VAR = []\n",
    "I_VAR = []\n",
    "\n",
    "ENTROPY = []\n",
    "ENERGY = []\n",
    "CONTRAST = []\n",
    "HOMOGENEITY = []\n",
    "\n",
    "for folder in os.listdir(os.path.join(ROOT, TRAIN)):\n",
    "    for image in os.listdir(os.path.join(ROOT, TRAIN, folder)):\n",
    "        img = Image.open(os.path.join(ROOT, TRAIN, folder, image))\n",
    "        img = TRANSFORM1(img)\n",
    "        \n",
    "        R, G, B = img.convert(\"RGB\").split()\n",
    "        H, S, _ = img.convert(\"HSV\").split()\n",
    "        I = img.convert(\"I\")\n",
    "        \n",
    "        R_STD.append(ImageStat.Stat(R).stddev[0])\n",
    "        G_STD.append(ImageStat.Stat(G).stddev[0])\n",
    "        B_STD.append(ImageStat.Stat(B).stddev[0])\n",
    "        H_STD.append(ImageStat.Stat(H).stddev[0])\n",
    "        S_STD.append(ImageStat.Stat(S).stddev[0])\n",
    "        I_STD.append(ImageStat.Stat(I).stddev[0])\n",
    "        \n",
    "        R_VAR.append(ImageStat.Stat(R).var[0])\n",
    "        G_VAR.append(ImageStat.Stat(G).var[0])\n",
    "        B_VAR.append(ImageStat.Stat(B).var[0])\n",
    "        H_VAR.append(ImageStat.Stat(H).var[0])\n",
    "        S_VAR.append(ImageStat.Stat(S).var[0])\n",
    "        I_VAR.append(ImageStat.Stat(I).var[0])\n",
    "        \n",
    "        entropy, energy, contrast, homogeneity = get_more_features(np.array(img.convert(\"L\")))\n",
    "        \n",
    "        ENTROPY.append(entropy)\n",
    "        ENERGY.append(energy)\n",
    "        CONTRAST.append(contrast)\n",
    "        HOMOGENEITY.append(homogeneity)"
   ]
  },
  {
   "cell_type": "code",
   "execution_count": null,
   "id": "624b189f",
   "metadata": {},
   "outputs": [],
   "source": [
    "print(f\"RED_STD = ({min(R_STD)}, {max(R_STD)})\")\n",
    "print(f\"GREEN_STD = ({min(G_STD)}, {max(G_STD)})\")\n",
    "print(f\"BLUE_STD = ({min(B_STD)}, {max(B_STD)})\")\n",
    "print(f\"HUE_STD = ({min(H_STD)}, {max(H_STD)})\")\n",
    "print(f\"SATURATION_STD = ({min(S_STD)}, {max(S_STD)})\")\n",
    "print(f\"INTENSITY_STD = ({min(I_STD)}, {max(I_STD)})\")\n",
    "\n",
    "print(f\"RED_VAR = ({min(R_VAR)}, {max(R_VAR)})\")\n",
    "print(f\"GREEN_VAR = ({min(G_VAR)}, {max(G_VAR)})\")\n",
    "print(f\"BLUE_VAR = ({min(B_VAR)}, {max(B_VAR)})\")\n",
    "print(f\"HUE_VAR = ({min(H_VAR)}, {max(H_VAR)})\")\n",
    "print(f\"SATURATION_VAR = ({min(S_VAR)}, {max(S_VAR)})\")\n",
    "print(f\"INTENSITY_VAR = ({min(I_VAR)}, {max(I_VAR)})\")\n",
    "\n",
    "print(f\"ENTROPY = ({min(ENTROPY)}, {max(ENTROPY)})\")\n",
    "print(f\"ENERGY = ({min(ENERGY)}, {max(ENERGY)})\")\n",
    "print(f\"CONTRAST = ({min(CONTRAST)}, {max(CONTRAST)})\")\n",
    "print(f\"HOMOGENEITY = ({min(HOMOGENEITY)}, {max(HOMOGENEITY)})\")"
   ]
  },
  {
   "cell_type": "markdown",
   "id": "780ae5e3",
   "metadata": {},
   "source": [
    "Plot class distribution of dataset"
   ]
  },
  {
   "cell_type": "code",
   "execution_count": null,
   "id": "bae44dab",
   "metadata": {},
   "outputs": [],
   "source": [
    "classes = []\n",
    "count = []\n",
    "\n",
    "for folder in os.listdir(os.path.join(ROOT, EXTERNAL)):\n",
    "    classes.append(folder)\n",
    "    count.append(len(os.listdir(os.path.join(ROOT, EXTERNAL, folder))))"
   ]
  },
  {
   "cell_type": "code",
   "execution_count": null,
   "id": "a4900f9d",
   "metadata": {},
   "outputs": [],
   "source": [
    "plt.figure(figsize=(12, 6), dpi=100)\n",
    "plt.xticks(rotation=90)\n",
    "plt.bar(classes, count)\n",
    "plt.savefig(\"dataset_external.svg\")"
   ]
  },
  {
   "cell_type": "code",
   "execution_count": null,
   "id": "7636a5d4",
   "metadata": {},
   "outputs": [],
   "source": []
  }
 ],
 "metadata": {
  "kernelspec": {
   "display_name": "Python 3 (ipykernel)",
   "language": "python",
   "name": "python3"
  },
  "language_info": {
   "codemirror_mode": {
    "name": "ipython",
    "version": 3
   },
   "file_extension": ".py",
   "mimetype": "text/x-python",
   "name": "python",
   "nbconvert_exporter": "python",
   "pygments_lexer": "ipython3",
   "version": "3.11.5"
  }
 },
 "nbformat": 4,
 "nbformat_minor": 5
}
